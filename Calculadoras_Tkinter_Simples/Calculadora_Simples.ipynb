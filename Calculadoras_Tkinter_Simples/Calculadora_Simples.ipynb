{
 "cells": [
  {
   "cell_type": "code",
   "execution_count": 1,
   "metadata": {},
   "outputs": [
    {
     "name": "stdout",
     "output_type": "stream",
     "text": [
      "Bem-Vindo à Calculadora!\n",
      "Primeiro Número =  2.0\n",
      "Segundo Número =  3.0\n",
      "Operação Selecionada:  *\n",
      "O Resultado é:  6.0\n"
     ]
    }
   ],
   "source": [
    "# Exiba \"Bem-Vindo à Calculadora\"\n",
    "# Peça para o usuário inserir o primeiro número\n",
    "# Armazene o primeiro número em uma variável\n",
    "# Peça para o usuário inserir o segundo número\n",
    "# Armazene o segundo número em uma variável\n",
    "# Peça para o usuário selecionar uma operação (+, -, *, /)\n",
    "# Armazene em uma variável\n",
    "# Utilize a operação selecionada e os números armazenados para realizar o cálculo\n",
    "# Exiba o resultado\n",
    "\n",
    "print(\"Bem-Vindo à Calculadora!\")\n",
    "\n",
    "Número1 = float(input(\"Insira o Primeiro Número: \"))\n",
    "print(\"Primeiro Número = \", Número1)\n",
    "\n",
    "Número2 = float(input(\"Insira o Segundo Número: \"))\n",
    "print(\"Segundo Número = \", Número2)\n",
    "\n",
    "operacao = input(\"Selecione uma operação: (+, -, *, /)\")\n",
    "print(\"Operação Selecionada: \", operacao)\n",
    "\n",
    "if operacao == \"+\":\n",
    "    resultado = Número1 + Número2\n",
    "    print(\"O Resultado é: \", resultado)\n",
    "elif operacao == \"-\":\n",
    "    resultado = Número1 - Número2\n",
    "    print(\"O Resultado é: \", resultado)\n",
    "elif operacao == \"*\":\n",
    "    resultado = Número1 * Número2\n",
    "    print(\"O Resultado é: \", resultado)\n",
    "elif operacao == \"/\":\n",
    "    resultado = Número1 / Número2\n",
    "    print(\"O Resultado é: \", resultado)\n",
    "\n",
    "else:\n",
    "    print(\"Operação Inválida.\")"
   ]
  }
 ],
 "metadata": {
  "kernelspec": {
   "display_name": "base",
   "language": "python",
   "name": "python3"
  },
  "language_info": {
   "codemirror_mode": {
    "name": "ipython",
    "version": 3
   },
   "file_extension": ".py",
   "mimetype": "text/x-python",
   "name": "python",
   "nbconvert_exporter": "python",
   "pygments_lexer": "ipython3",
   "version": "3.10.9"
  },
  "orig_nbformat": 4
 },
 "nbformat": 4,
 "nbformat_minor": 2
}
